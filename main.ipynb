{
 "cells": [
  {
   "cell_type": "code",
   "execution_count": 1,
   "id": "6cf98484",
   "metadata": {},
   "outputs": [
    {
     "name": "stdout",
     "output_type": "stream",
     "text": [
      "Training label distribution:\n",
      " label\n",
      "0    17572\n",
      "1    16580\n",
      "Name: count, dtype: int64\n"
     ]
    },
    {
     "data": {
      "image/png": "[encoded data removed]",
      "text/plain": [
       "<Figure size 640x480 with 1 Axes>"
      ]
     },
     "metadata": {},
     "output_type": "display_data"
    },
    {
     "name": "stdout",
     "output_type": "stream",
     "text": [
      "Logistic Regression Cross-Validation Scores: [0.86678378 0.91084761 0.85358712 0.93074671 0.91273792]\n",
      "Average Accuracy Score: 0.8949406257280723\n",
      "   label                                               text\n",
      "0      0  copycat muslim terrorist arrested with assault...\n",
      "1      0  wow chicago protester caught on camera admits ...\n",
      "2      1   germany s fdp look to fill schaeuble s big shoes\n",
      "3      0  mi school sends welcome back packet warning ki...\n",
      "4      1  u n seeks massive aid boost amid rohingya emer...\n",
      "5      0  did oprah just leave nasty hillary wishing she...\n",
      "6      1  france s macron says his job not cool cites ta...\n",
      "7      0  flashback chilling minutes interview with geor...\n",
      "8      1  spanish foreign ministry says to expel north k...\n",
      "9      1  trump says cuba did some bad things aimed at u...\n"
     ]
    }
   ],
   "source": [
    "# Import libraries\n",
    "import numpy as np\n",
    "import pandas as pd\n",
    "import matplotlib.pyplot as plt\n",
    "import seaborn as sns\n",
    "import warnings\n",
    "import re\n",
    "\n",
    "from sklearn.feature_extraction.text import TfidfVectorizer\n",
    "from sklearn.linear_model import LogisticRegression\n",
    "from sklearn.model_selection import cross_val_score\n",
    "\n",
    "# Configurations\n",
    "warnings.filterwarnings('ignore')\n",
    "pd.set_option('display.max_columns', None)\n",
    "\n",
    "# Load data\n",
    "train_df = pd.read_csv(\"dataset/training_data.csv\", sep='\\t', names=[\"label\", \"text\"])\n",
    "test_df = pd.read_csv(\"dataset/testing_data.csv\", sep='\\t', names=[\"label\", \"text\"])\n",
    "\n",
    "# Text cleaning function\n",
    "def clean_text(df, text_col):\n",
    "    df[text_col] = df[text_col].astype(str).str.lower()\n",
    "    df[text_col] = df[text_col].apply(lambda x: re.sub(r\"[^a-zA-Z]\", \" \", x))\n",
    "    df[text_col] = df[text_col].apply(lambda x: re.sub(r\"\\s+\", \" \", x).strip())\n",
    "    return df\n",
    "\n",
    "train_df = clean_text(train_df, \"text\")\n",
    "test_df = clean_text(test_df, \"text\")\n",
    "\n",
    "# Exploratory analysis\n",
    "print(\"Training label distribution:\\n\", train_df[\"label\"].value_counts())\n",
    "sns.countplot(x=train_df[\"label\"])\n",
    "plt.title(\"Label Distribution in Training Data\")\n",
    "plt.show()\n",
    "\n",
    "# TF-IDF vectorization with unigrams and bigrams\n",
    "vectorizer = TfidfVectorizer(ngram_range=(1, 2), stop_words='english')\n",
    "X_train = vectorizer.fit_transform(train_df[\"text\"])\n",
    "y_train = train_df[\"label\"]\n",
    "X_test = vectorizer.transform(test_df[\"text\"])\n",
    "\n",
    "# Logistic Regression Model\n",
    "lr_model = LogisticRegression(max_iter=300)\n",
    "lr_model.fit(X_train, y_train)\n",
    "\n",
    "# Cross-validation\n",
    "lr_scores = cross_val_score(lr_model, X_train, y_train, cv=5)\n",
    "print(\"Logistic Regression Cross-Validation Scores:\", lr_scores)\n",
    "print(\"Average Accuracy Score:\", lr_scores.mean())\n",
    "\n",
    "# Predict labels for test data\n",
    "predictions = lr_model.predict(X_test)\n",
    "\n",
    "# Replace '2' in test_df with predictions\n",
    "test_df[\"label\"] = predictions\n",
    "final_df = test_df[[\"label\", \"text\"]]  # drop auxiliary columns if any\n",
    "\n",
    "# Save to CSV in correct format (tab-separated, no header, no index)\n",
    "final_df.to_csv(\"predicted_results.csv\", index=False, sep='\\t', header=False)\n",
    "\n",
    "# Preview final result\n",
    "print(final_df.head(10))\n"
   ]
  }
 ],
 "metadata": {
  "kernelspec": {
   "display_name": "base",
   "language": "python",
   "name": "python3"
  },
  "language_info": {
   "codemirror_mode": {
    "name": "ipython",
    "version": 3
   },
   "file_extension": ".py",
   "mimetype": "text/x-python",
   "name": "python",
   "nbconvert_exporter": "python",
   "pygments_lexer": "ipython3",
   "version": "3.12.4"
  }
 },
 "nbformat": 4,
 "nbformat_minor": 5
}
